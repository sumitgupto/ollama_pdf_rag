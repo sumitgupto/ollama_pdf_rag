{
 "cells": [
  {
   "cell_type": "code",
   "execution_count": 1,
   "metadata": {},
   "outputs": [
    {
     "name": "stdout",
     "output_type": "stream",
     "text": [
      "Document split into 2449 chunks\n",
      "Embeddings initiated\n",
      "lenghth after filter 2449\n"
     ]
    },
    {
     "ename": "",
     "evalue": "",
     "output_type": "error",
     "traceback": [
      "\u001b[1;31mThe Kernel crashed while executing code in the current cell or a previous cell. \n",
      "\u001b[1;31mPlease review the code in the cell(s) to identify a possible cause of the failure. \n",
      "\u001b[1;31mClick <a href='https://aka.ms/vscodeJupyterKernelCrash'>here</a> for more info. \n",
      "\u001b[1;31mView Jupyter <a href='command:jupyter.viewOutput'>log</a> for further details."
     ]
    }
   ],
   "source": [
    "from langchain_community.document_loaders import UnstructuredExcelLoader\n",
    "from langchain_text_splitters import RecursiveCharacterTextSplitter\n",
    "from langchain_community.vectorstores import Chroma\n",
    "from langchain_community.vectorstores.utils import filter_complex_metadata\n",
    "from langchain_openai import OpenAIEmbeddings\n",
    "\n",
    "from dotenv import load_dotenv, find_dotenv\n",
    "founddotenv = load_dotenv(find_dotenv(), override=True) \n",
    "print(\"Found .env: %s\", founddotenv)\n",
    "\n",
    "path = \"./pull_requests_summary.xlsx\"\n",
    "loader = UnstructuredExcelLoader(file_path=path, mode=\"elements\")\n",
    "data = loader.load()\n",
    "\n",
    "text_splitter = RecursiveCharacterTextSplitter(chunk_size=200, chunk_overlap=50)\n",
    "chunks = text_splitter.split_documents(data)\n",
    "print(f\"Document split into {len(chunks)} chunks\")\n",
    "\n",
    "try:\n",
    "    \n",
    "    embeddings = OpenAIEmbeddings(model= \"text-embedding-3-small\", dimensions=1536) #text-embedding-3-small\n",
    "    print(\"Embeddings initiated\")\n",
    "\n",
    "    docs=filter_complex_metadata(chunks)\n",
    "    print(f\"lenghth after filter {len(docs)}\")\n",
    "\n",
    "    persist_directory_xlsx ='./chroma_db_xlsx'\n",
    "    vector_db = Chroma.from_documents(\n",
    "        documents=docs, \n",
    "        #documents=chunks, \n",
    "        embedding=embeddings, \n",
    "        persist_directory=persist_directory_xlsx, \n",
    "        collection_name=\"myRAG-xlsx\"\n",
    "        )\n",
    "    print(\"Vector DB created\")\n",
    "except Exception as e:\n",
    "    print(\"FAILED to create Vector DB\")\n",
    "    print(\"The error is: \",e)\n"
   ]
  }
 ],
 "metadata": {
  "kernelspec": {
   "display_name": ".venv",
   "language": "python",
   "name": "python3"
  },
  "language_info": {
   "codemirror_mode": {
    "name": "ipython",
    "version": 3
   },
   "file_extension": ".py",
   "mimetype": "text/x-python",
   "name": "python",
   "nbconvert_exporter": "python",
   "pygments_lexer": "ipython3",
   "version": "3.12.5"
  }
 },
 "nbformat": 4,
 "nbformat_minor": 2
}
