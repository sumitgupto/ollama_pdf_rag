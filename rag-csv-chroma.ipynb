{
 "cells": [
  {
   "cell_type": "code",
   "execution_count": 1,
   "metadata": {},
   "outputs": [
    {
     "name": "stdout",
     "output_type": "stream",
     "text": [
      "Found .env: %s True\n"
     ]
    }
   ],
   "source": [
    "from dotenv import load_dotenv, find_dotenv\n",
    "founddotenv = load_dotenv(find_dotenv(), override=True) \n",
    "print(\"Found .env: %s\", founddotenv)"
   ]
  },
  {
   "cell_type": "code",
   "execution_count": 2,
   "metadata": {},
   "outputs": [],
   "source": [
    "from langchain_community.document_loaders.csv_loader import CSVLoader\n",
    "path = \"./pull_requests_summary.csv\"\n",
    "\n",
    "import csv\n",
    "csv.field_size_limit(10**6)\n",
    "\n",
    "loader = CSVLoader(file_path=path, encoding=\"utf-8\", csv_args={'delimiter': ','})\n",
    "data = loader.load()"
   ]
  },
  {
   "cell_type": "code",
   "execution_count": 3,
   "metadata": {},
   "outputs": [],
   "source": [
    "from langchain_openai import OpenAIEmbeddings\n",
    "#embeddings = OpenAIEmbeddings()\n",
    "#embeddings = OpenAIEmbeddings(model= \"text-embedding-3-small\", dimensions=1536) #text-embedding-3-small\n",
    "embeddings = OpenAIEmbeddings(model= \"text-embedding-3-large\") #text-embedding-3-small"
   ]
  },
  {
   "cell_type": "code",
   "execution_count": 4,
   "metadata": {},
   "outputs": [],
   "source": [
    "#from langchain.vectorstores.chroma import Chroma\n",
    "from langchain_chroma import Chroma\n",
    "def send_chunks_to_chroma_Db (subchunk) :   \n",
    "    vectorstore = Chroma.from_documents(\n",
    "        documents = subchunk,\n",
    "        #collection_name=\"myRAG-CSV\",\n",
    "        embedding = embeddings,\n",
    "        persist_directory=\"./chroma_db_csv\", \n",
    "        )\n",
    "    #vectorstore.persist()\n",
    "    print(\"Added chunks to DB : \", len(subchunk))\n",
    "\n",
    "    #vectorstore = Chroma(persist_directory=\"./chroma_db_csv\", embedding_function=embeddings)\n",
    "    print(\"loaded chromadb\")\n",
    "\n",
    "    return vectorstore"
   ]
  },
  {
   "cell_type": "code",
   "execution_count": 5,
   "metadata": {},
   "outputs": [
    {
     "name": "stdout",
     "output_type": "stream",
     "text": [
      "Total Chunks :  5718\n"
     ]
    }
   ],
   "source": [
    "from langchain_text_splitters import RecursiveCharacterTextSplitter\n",
    "text_splitter = RecursiveCharacterTextSplitter(chunk_size=200, chunk_overlap=25)\n",
    "chunks = text_splitter.split_documents(data)\n",
    "print(\"Total Chunks : \", len(chunks))"
   ]
  },
  {
   "cell_type": "code",
   "execution_count": 30,
   "metadata": {},
   "outputs": [
    {
     "name": "stdout",
     "output_type": "stream",
     "text": [
      "\n",
      "Counter :  1 page_content='Commit ID: 1463a176bf652172560c3893c84b61c86e1b47f5' metadata={'source': './pull_requests_summary.csv', 'row': 0}\n",
      "\n",
      "Counter :  2 page_content='Commit ID: 39c8f648fdb08e8717237ae4ffca5b181cd3fd33\n",
      "Changes: diff --git a/gradle.properties b/gradle.properties\n",
      "index 63e41475e..541cd2205 100644\n",
      "--- a/gradle.properties\n",
      "+++ b/gradle.properties' metadata={'source': './pull_requests_summary.csv', 'row': 1}\n",
      "\n",
      "Counter :  3 page_content='Commit ID: 949be2ac0e957cfbe981da242384424b4786067a' metadata={'source': './pull_requests_summary.csv', 'row': 2}\n",
      "\n",
      "Counter :  4 page_content='Commit ID: 4acc32ac9bf2dde41083bac73dc15f89cc69345d\n",
      "Changes: diff --git a/build.gradle b/build.gradle\n",
      "index 71e710c22..4ef6125d0 100644\n",
      "--- a/build.gradle\n",
      "+++ b/build.gradle' metadata={'source': './pull_requests_summary.csv', 'row': 3}\n",
      "\n",
      "Counter :  5 page_content='Commit ID: 97ac5a506b358d29c298aecadd41060d62cecc4b' metadata={'source': './pull_requests_summary.csv', 'row': 4}\n",
      "\n",
      "Counter :  6 page_content='Commit ID: c1fcce1636d4e6a240fbaf6ffa6c30058c08e69e' metadata={'source': './pull_requests_summary.csv', 'row': 5}\n",
      "\n",
      "Counter :  7 page_content='Commit ID: 3ecedef3e81ac4104fe3f0a028aafad496ed6b42' metadata={'source': './pull_requests_summary.csv', 'row': 6}\n",
      "\n",
      "Counter :  8 page_content='Commit ID: 0fa74824f9fefec08acfe117866dc587563730d5\n",
      "Changes: diff --git a/gradle.properties b/gradle.properties\n",
      "index 5092163a0..66317d62f 100644\n",
      "--- a/gradle.properties\n",
      "+++ b/gradle.properties' metadata={'source': './pull_requests_summary.csv', 'row': 7}\n",
      "\n",
      "Counter :  9 page_content='Commit ID: 26d2d44b12c28580549b6ade52bb6a4949cfe521' metadata={'source': './pull_requests_summary.csv', 'row': 8}\n",
      "\n",
      "Counter :  10 page_content='Commit ID: 8a493a8f89f9c9d108922bd83af39f776ee6c76b\n",
      "Changes: diff --git a/gradle.properties b/gradle.properties\n",
      "index 319096b1c..5092163a0 100644\n",
      "--- a/gradle.properties\n",
      "+++ b/gradle.properties' metadata={'source': './pull_requests_summary.csv', 'row': 9}\n",
      "\n",
      "Counter :  11 page_content='Commit ID: c8ece09049aab49a3563e0270356ff252cab07ec\n",
      "Changes: diff --git a/gradle.properties b/gradle.properties\n",
      "index c1cfa6731..63e41475e 100644\n",
      "--- a/gradle.properties\n",
      "+++ b/gradle.properties' metadata={'source': './pull_requests_summary.csv', 'row': 10}\n",
      "\n",
      "Counter :  12 page_content='Commit ID: d44fe09aad42bdaee71ec01ad46ea9373838cc79' metadata={'source': './pull_requests_summary.csv', 'row': 11}\n",
      "\n",
      "Counter :  13 page_content='Commit ID: 4ea394f68edacf25c6b41658737b12cfefda78a1' metadata={'source': './pull_requests_summary.csv', 'row': 12}\n",
      "\n",
      "Counter :  14 page_content='Commit ID: aab97ad907a4f75829db8a0c13c1100dbbb2cfde\n",
      "Changes: diff --git a/build.gradle b/build.gradle\n",
      "index 8b39d38de..71e710c22 100644\n",
      "--- a/build.gradle\n",
      "+++ b/build.gradle' metadata={'source': './pull_requests_summary.csv', 'row': 13}\n",
      "\n",
      "Counter :  15 page_content='Commit ID: 8f0a90296125be546416d56ccc90faa7eeaa4e20' metadata={'source': './pull_requests_summary.csv', 'row': 14}\n",
      "\n",
      "Counter :  16 page_content='Commit ID: 1726ba0c9980202ff423428aa46c579d9ee36e03' metadata={'source': './pull_requests_summary.csv', 'row': 15}\n",
      "\n",
      "Counter :  17 page_content='Commit ID: 259e4d6596ca63e2068bbe51e4671d706bb9472a' metadata={'source': './pull_requests_summary.csv', 'row': 16}\n",
      "\n",
      "Counter :  18 page_content='Commit ID: eaaee88fd31f620451b7e0d94302793da4c0f041' metadata={'source': './pull_requests_summary.csv', 'row': 17}\n",
      "\n",
      "Counter :  19 page_content='Commit ID: af9fa033fc9e5fee1506a0ae7178048359f38d5c' metadata={'source': './pull_requests_summary.csv', 'row': 18}\n",
      "\n",
      "Counter :  20 page_content='Commit ID: 7c4a8faa6431b0390253e9dbaaba58d401647fd9\n",
      "Changes: diff --git a/build.gradle b/build.gradle\n",
      "index b56604a6c..8b39d38de 100644\n",
      "--- a/build.gradle\n",
      "+++ b/build.gradle' metadata={'source': './pull_requests_summary.csv', 'row': 19}\n"
     ]
    }
   ],
   "source": [
    "counter = 0\n",
    "for chunk in chunks:\n",
    "    if \"Commit ID\" in chunk.page_content:\n",
    "        counter = counter+1\n",
    "        print(\"\\nCounter : \", counter, chunk)"
   ]
  },
  {
   "cell_type": "code",
   "execution_count": 6,
   "metadata": {},
   "outputs": [
    {
     "ename": "ValueError",
     "evalue": "Batch size 6123 exceeds maximum batch size 5461",
     "output_type": "error",
     "traceback": [
      "\u001b[0;31m---------------------------------------------------------------------------\u001b[0m",
      "\u001b[0;31mValueError\u001b[0m                                Traceback (most recent call last)",
      "Cell \u001b[0;32mIn[6], line 1\u001b[0m\n\u001b[0;32m----> 1\u001b[0m vectorstore \u001b[38;5;241m=\u001b[39m \u001b[43msend_chunks_to_chroma_Db\u001b[49m\u001b[43m(\u001b[49m\u001b[43mchunks\u001b[49m\u001b[43m)\u001b[49m\n",
      "Cell \u001b[0;32mIn[4], line 4\u001b[0m, in \u001b[0;36msend_chunks_to_chroma_Db\u001b[0;34m(subchunk)\u001b[0m\n\u001b[1;32m      3\u001b[0m \u001b[38;5;28;01mdef\u001b[39;00m \u001b[38;5;21msend_chunks_to_chroma_Db\u001b[39m (subchunk) :   \n\u001b[0;32m----> 4\u001b[0m     vectorstore \u001b[38;5;241m=\u001b[39m \u001b[43mChroma\u001b[49m\u001b[38;5;241;43m.\u001b[39;49m\u001b[43mfrom_documents\u001b[49m\u001b[43m(\u001b[49m\n\u001b[1;32m      5\u001b[0m \u001b[43m        \u001b[49m\u001b[43mdocuments\u001b[49m\u001b[43m \u001b[49m\u001b[38;5;241;43m=\u001b[39;49m\u001b[43m \u001b[49m\u001b[43msubchunk\u001b[49m\u001b[43m,\u001b[49m\n\u001b[1;32m      6\u001b[0m \u001b[43m        \u001b[49m\u001b[38;5;66;43;03m#collection_name=\"myRAG-CSV\",\u001b[39;49;00m\n\u001b[1;32m      7\u001b[0m \u001b[43m        \u001b[49m\u001b[43membedding\u001b[49m\u001b[43m \u001b[49m\u001b[38;5;241;43m=\u001b[39;49m\u001b[43m \u001b[49m\u001b[43membeddings\u001b[49m\u001b[43m,\u001b[49m\n\u001b[1;32m      8\u001b[0m \u001b[43m        \u001b[49m\u001b[43mpersist_directory\u001b[49m\u001b[38;5;241;43m=\u001b[39;49m\u001b[38;5;124;43m\"\u001b[39;49m\u001b[38;5;124;43m./chroma_db_csv\u001b[39;49m\u001b[38;5;124;43m\"\u001b[39;49m\u001b[43m,\u001b[49m\u001b[43m \u001b[49m\n\u001b[1;32m      9\u001b[0m \u001b[43m        \u001b[49m\u001b[43m)\u001b[49m\n\u001b[1;32m     10\u001b[0m     \u001b[38;5;66;03m#vectorstore.persist()\u001b[39;00m\n\u001b[1;32m     11\u001b[0m     \u001b[38;5;28mprint\u001b[39m(\u001b[38;5;124m\"\u001b[39m\u001b[38;5;124mAdded chunks to DB : \u001b[39m\u001b[38;5;124m\"\u001b[39m, \u001b[38;5;28mlen\u001b[39m(subchunk))\n",
      "File \u001b[0;32m~/Data/ollama_pdf_rag/.venv/lib/python3.12/site-packages/langchain_chroma/vectorstores.py:1128\u001b[0m, in \u001b[0;36mChroma.from_documents\u001b[0;34m(cls, documents, embedding, ids, collection_name, persist_directory, client_settings, client, collection_metadata, **kwargs)\u001b[0m\n\u001b[1;32m   1126\u001b[0m texts \u001b[38;5;241m=\u001b[39m [doc\u001b[38;5;241m.\u001b[39mpage_content \u001b[38;5;28;01mfor\u001b[39;00m doc \u001b[38;5;129;01min\u001b[39;00m documents]\n\u001b[1;32m   1127\u001b[0m metadatas \u001b[38;5;241m=\u001b[39m [doc\u001b[38;5;241m.\u001b[39mmetadata \u001b[38;5;28;01mfor\u001b[39;00m doc \u001b[38;5;129;01min\u001b[39;00m documents]\n\u001b[0;32m-> 1128\u001b[0m \u001b[38;5;28;01mreturn\u001b[39;00m \u001b[38;5;28;43mcls\u001b[39;49m\u001b[38;5;241;43m.\u001b[39;49m\u001b[43mfrom_texts\u001b[49m\u001b[43m(\u001b[49m\n\u001b[1;32m   1129\u001b[0m \u001b[43m    \u001b[49m\u001b[43mtexts\u001b[49m\u001b[38;5;241;43m=\u001b[39;49m\u001b[43mtexts\u001b[49m\u001b[43m,\u001b[49m\n\u001b[1;32m   1130\u001b[0m \u001b[43m    \u001b[49m\u001b[43membedding\u001b[49m\u001b[38;5;241;43m=\u001b[39;49m\u001b[43membedding\u001b[49m\u001b[43m,\u001b[49m\n\u001b[1;32m   1131\u001b[0m \u001b[43m    \u001b[49m\u001b[43mmetadatas\u001b[49m\u001b[38;5;241;43m=\u001b[39;49m\u001b[43mmetadatas\u001b[49m\u001b[43m,\u001b[49m\n\u001b[1;32m   1132\u001b[0m \u001b[43m    \u001b[49m\u001b[43mids\u001b[49m\u001b[38;5;241;43m=\u001b[39;49m\u001b[43mids\u001b[49m\u001b[43m,\u001b[49m\n\u001b[1;32m   1133\u001b[0m \u001b[43m    \u001b[49m\u001b[43mcollection_name\u001b[49m\u001b[38;5;241;43m=\u001b[39;49m\u001b[43mcollection_name\u001b[49m\u001b[43m,\u001b[49m\n\u001b[1;32m   1134\u001b[0m \u001b[43m    \u001b[49m\u001b[43mpersist_directory\u001b[49m\u001b[38;5;241;43m=\u001b[39;49m\u001b[43mpersist_directory\u001b[49m\u001b[43m,\u001b[49m\n\u001b[1;32m   1135\u001b[0m \u001b[43m    \u001b[49m\u001b[43mclient_settings\u001b[49m\u001b[38;5;241;43m=\u001b[39;49m\u001b[43mclient_settings\u001b[49m\u001b[43m,\u001b[49m\n\u001b[1;32m   1136\u001b[0m \u001b[43m    \u001b[49m\u001b[43mclient\u001b[49m\u001b[38;5;241;43m=\u001b[39;49m\u001b[43mclient\u001b[49m\u001b[43m,\u001b[49m\n\u001b[1;32m   1137\u001b[0m \u001b[43m    \u001b[49m\u001b[43mcollection_metadata\u001b[49m\u001b[38;5;241;43m=\u001b[39;49m\u001b[43mcollection_metadata\u001b[49m\u001b[43m,\u001b[49m\n\u001b[1;32m   1138\u001b[0m \u001b[43m    \u001b[49m\u001b[38;5;241;43m*\u001b[39;49m\u001b[38;5;241;43m*\u001b[39;49m\u001b[43mkwargs\u001b[49m\u001b[43m,\u001b[49m\n\u001b[1;32m   1139\u001b[0m \u001b[43m\u001b[49m\u001b[43m)\u001b[49m\n",
      "File \u001b[0;32m~/Data/ollama_pdf_rag/.venv/lib/python3.12/site-packages/langchain_chroma/vectorstores.py:1089\u001b[0m, in \u001b[0;36mChroma.from_texts\u001b[0;34m(cls, texts, embedding, metadatas, ids, collection_name, persist_directory, client_settings, client, collection_metadata, **kwargs)\u001b[0m\n\u001b[1;32m   1083\u001b[0m         chroma_collection\u001b[38;5;241m.\u001b[39madd_texts(\n\u001b[1;32m   1084\u001b[0m             texts\u001b[38;5;241m=\u001b[39mbatch[\u001b[38;5;241m3\u001b[39m] \u001b[38;5;28;01mif\u001b[39;00m batch[\u001b[38;5;241m3\u001b[39m] \u001b[38;5;28;01melse\u001b[39;00m [],\n\u001b[1;32m   1085\u001b[0m             metadatas\u001b[38;5;241m=\u001b[39mbatch[\u001b[38;5;241m2\u001b[39m] \u001b[38;5;28;01mif\u001b[39;00m batch[\u001b[38;5;241m2\u001b[39m] \u001b[38;5;28;01melse\u001b[39;00m \u001b[38;5;28;01mNone\u001b[39;00m,  \u001b[38;5;66;03m# type: ignore\u001b[39;00m\n\u001b[1;32m   1086\u001b[0m             ids\u001b[38;5;241m=\u001b[39mbatch[\u001b[38;5;241m0\u001b[39m],\n\u001b[1;32m   1087\u001b[0m         )\n\u001b[1;32m   1088\u001b[0m \u001b[38;5;28;01melse\u001b[39;00m:\n\u001b[0;32m-> 1089\u001b[0m     \u001b[43mchroma_collection\u001b[49m\u001b[38;5;241;43m.\u001b[39;49m\u001b[43madd_texts\u001b[49m\u001b[43m(\u001b[49m\u001b[43mtexts\u001b[49m\u001b[38;5;241;43m=\u001b[39;49m\u001b[43mtexts\u001b[49m\u001b[43m,\u001b[49m\u001b[43m \u001b[49m\u001b[43mmetadatas\u001b[49m\u001b[38;5;241;43m=\u001b[39;49m\u001b[43mmetadatas\u001b[49m\u001b[43m,\u001b[49m\u001b[43m \u001b[49m\u001b[43mids\u001b[49m\u001b[38;5;241;43m=\u001b[39;49m\u001b[43mids\u001b[49m\u001b[43m)\u001b[49m\n\u001b[1;32m   1090\u001b[0m \u001b[38;5;28;01mreturn\u001b[39;00m chroma_collection\n",
      "File \u001b[0;32m~/Data/ollama_pdf_rag/.venv/lib/python3.12/site-packages/langchain_chroma/vectorstores.py:544\u001b[0m, in \u001b[0;36mChroma.add_texts\u001b[0;34m(self, texts, metadatas, ids, **kwargs)\u001b[0m\n\u001b[1;32m    542\u001b[0m             \u001b[38;5;28;01mraise\u001b[39;00m \u001b[38;5;167;01mValueError\u001b[39;00m(e\u001b[38;5;241m.\u001b[39margs[\u001b[38;5;241m0\u001b[39m] \u001b[38;5;241m+\u001b[39m \u001b[38;5;124m\"\u001b[39m\u001b[38;5;130;01m\\n\u001b[39;00m\u001b[38;5;130;01m\\n\u001b[39;00m\u001b[38;5;124m\"\u001b[39m \u001b[38;5;241m+\u001b[39m msg)\n\u001b[1;32m    543\u001b[0m         \u001b[38;5;28;01melse\u001b[39;00m:\n\u001b[0;32m--> 544\u001b[0m             \u001b[38;5;28;01mraise\u001b[39;00m e\n\u001b[1;32m    545\u001b[0m \u001b[38;5;28;01mif\u001b[39;00m empty_ids:\n\u001b[1;32m    546\u001b[0m     texts_without_metadatas \u001b[38;5;241m=\u001b[39m [texts[j] \u001b[38;5;28;01mfor\u001b[39;00m j \u001b[38;5;129;01min\u001b[39;00m empty_ids]\n",
      "File \u001b[0;32m~/Data/ollama_pdf_rag/.venv/lib/python3.12/site-packages/langchain_chroma/vectorstores.py:530\u001b[0m, in \u001b[0;36mChroma.add_texts\u001b[0;34m(self, texts, metadatas, ids, **kwargs)\u001b[0m\n\u001b[1;32m    528\u001b[0m ids_with_metadata \u001b[38;5;241m=\u001b[39m [ids[idx] \u001b[38;5;28;01mfor\u001b[39;00m idx \u001b[38;5;129;01min\u001b[39;00m non_empty_ids]\n\u001b[1;32m    529\u001b[0m \u001b[38;5;28;01mtry\u001b[39;00m:\n\u001b[0;32m--> 530\u001b[0m     \u001b[38;5;28;43mself\u001b[39;49m\u001b[38;5;241;43m.\u001b[39;49m\u001b[43m_collection\u001b[49m\u001b[38;5;241;43m.\u001b[39;49m\u001b[43mupsert\u001b[49m\u001b[43m(\u001b[49m\n\u001b[1;32m    531\u001b[0m \u001b[43m        \u001b[49m\u001b[43mmetadatas\u001b[49m\u001b[38;5;241;43m=\u001b[39;49m\u001b[43mmetadatas\u001b[49m\u001b[43m,\u001b[49m\u001b[43m  \u001b[49m\u001b[38;5;66;43;03m# type: ignore\u001b[39;49;00m\n\u001b[1;32m    532\u001b[0m \u001b[43m        \u001b[49m\u001b[43membeddings\u001b[49m\u001b[38;5;241;43m=\u001b[39;49m\u001b[43membeddings_with_metadatas\u001b[49m\u001b[43m,\u001b[49m\u001b[43m  \u001b[49m\u001b[38;5;66;43;03m# type: ignore\u001b[39;49;00m\n\u001b[1;32m    533\u001b[0m \u001b[43m        \u001b[49m\u001b[43mdocuments\u001b[49m\u001b[38;5;241;43m=\u001b[39;49m\u001b[43mtexts_with_metadatas\u001b[49m\u001b[43m,\u001b[49m\n\u001b[1;32m    534\u001b[0m \u001b[43m        \u001b[49m\u001b[43mids\u001b[49m\u001b[38;5;241;43m=\u001b[39;49m\u001b[43mids_with_metadata\u001b[49m\u001b[43m,\u001b[49m\n\u001b[1;32m    535\u001b[0m \u001b[43m    \u001b[49m\u001b[43m)\u001b[49m\n\u001b[1;32m    536\u001b[0m \u001b[38;5;28;01mexcept\u001b[39;00m \u001b[38;5;167;01mValueError\u001b[39;00m \u001b[38;5;28;01mas\u001b[39;00m e:\n\u001b[1;32m    537\u001b[0m     \u001b[38;5;28;01mif\u001b[39;00m \u001b[38;5;124m\"\u001b[39m\u001b[38;5;124mExpected metadata value to be\u001b[39m\u001b[38;5;124m\"\u001b[39m \u001b[38;5;129;01min\u001b[39;00m \u001b[38;5;28mstr\u001b[39m(e):\n",
      "File \u001b[0;32m~/Data/ollama_pdf_rag/.venv/lib/python3.12/site-packages/chromadb/api/models/Collection.py:300\u001b[0m, in \u001b[0;36mCollection.upsert\u001b[0;34m(self, ids, embeddings, metadatas, documents, images, uris)\u001b[0m\n\u001b[1;32m    279\u001b[0m \u001b[38;5;250m\u001b[39m\u001b[38;5;124;03m\"\"\"Update the embeddings, metadatas or documents for provided ids, or create them if they don't exist.\u001b[39;00m\n\u001b[1;32m    280\u001b[0m \n\u001b[1;32m    281\u001b[0m \u001b[38;5;124;03mArgs:\u001b[39;00m\n\u001b[0;32m   (...)\u001b[0m\n\u001b[1;32m    288\u001b[0m \u001b[38;5;124;03m    None\u001b[39;00m\n\u001b[1;32m    289\u001b[0m \u001b[38;5;124;03m\"\"\"\u001b[39;00m\n\u001b[1;32m    290\u001b[0m (\n\u001b[1;32m    291\u001b[0m     ids,\n\u001b[1;32m    292\u001b[0m     embeddings,\n\u001b[0;32m   (...)\u001b[0m\n\u001b[1;32m    297\u001b[0m     ids, embeddings, metadatas, documents, images, uris\n\u001b[1;32m    298\u001b[0m )\n\u001b[0;32m--> 300\u001b[0m \u001b[38;5;28;43mself\u001b[39;49m\u001b[38;5;241;43m.\u001b[39;49m\u001b[43m_client\u001b[49m\u001b[38;5;241;43m.\u001b[39;49m\u001b[43m_upsert\u001b[49m\u001b[43m(\u001b[49m\n\u001b[1;32m    301\u001b[0m \u001b[43m    \u001b[49m\u001b[43mcollection_id\u001b[49m\u001b[38;5;241;43m=\u001b[39;49m\u001b[38;5;28;43mself\u001b[39;49m\u001b[38;5;241;43m.\u001b[39;49m\u001b[43mid\u001b[49m\u001b[43m,\u001b[49m\n\u001b[1;32m    302\u001b[0m \u001b[43m    \u001b[49m\u001b[43mids\u001b[49m\u001b[38;5;241;43m=\u001b[39;49m\u001b[43mids\u001b[49m\u001b[43m,\u001b[49m\n\u001b[1;32m    303\u001b[0m \u001b[43m    \u001b[49m\u001b[43membeddings\u001b[49m\u001b[38;5;241;43m=\u001b[39;49m\u001b[43membeddings\u001b[49m\u001b[43m,\u001b[49m\n\u001b[1;32m    304\u001b[0m \u001b[43m    \u001b[49m\u001b[43mmetadatas\u001b[49m\u001b[38;5;241;43m=\u001b[39;49m\u001b[43mmetadatas\u001b[49m\u001b[43m,\u001b[49m\n\u001b[1;32m    305\u001b[0m \u001b[43m    \u001b[49m\u001b[43mdocuments\u001b[49m\u001b[38;5;241;43m=\u001b[39;49m\u001b[43mdocuments\u001b[49m\u001b[43m,\u001b[49m\n\u001b[1;32m    306\u001b[0m \u001b[43m    \u001b[49m\u001b[43muris\u001b[49m\u001b[38;5;241;43m=\u001b[39;49m\u001b[43muris\u001b[49m\u001b[43m,\u001b[49m\n\u001b[1;32m    307\u001b[0m \u001b[43m\u001b[49m\u001b[43m)\u001b[49m\n",
      "File \u001b[0;32m~/Data/ollama_pdf_rag/.venv/lib/python3.12/site-packages/chromadb/telemetry/opentelemetry/__init__.py:146\u001b[0m, in \u001b[0;36mtrace_method.<locals>.decorator.<locals>.wrapper\u001b[0;34m(*args, **kwargs)\u001b[0m\n\u001b[1;32m    144\u001b[0m \u001b[38;5;28;01mglobal\u001b[39;00m tracer, granularity\n\u001b[1;32m    145\u001b[0m \u001b[38;5;28;01mif\u001b[39;00m trace_granularity \u001b[38;5;241m<\u001b[39m granularity:\n\u001b[0;32m--> 146\u001b[0m     \u001b[38;5;28;01mreturn\u001b[39;00m \u001b[43mf\u001b[49m\u001b[43m(\u001b[49m\u001b[38;5;241;43m*\u001b[39;49m\u001b[43margs\u001b[49m\u001b[43m,\u001b[49m\u001b[43m \u001b[49m\u001b[38;5;241;43m*\u001b[39;49m\u001b[38;5;241;43m*\u001b[39;49m\u001b[43mkwargs\u001b[49m\u001b[43m)\u001b[49m\n\u001b[1;32m    147\u001b[0m \u001b[38;5;28;01mif\u001b[39;00m \u001b[38;5;129;01mnot\u001b[39;00m tracer:\n\u001b[1;32m    148\u001b[0m     \u001b[38;5;28;01mreturn\u001b[39;00m f(\u001b[38;5;241m*\u001b[39margs, \u001b[38;5;241m*\u001b[39m\u001b[38;5;241m*\u001b[39mkwargs)\n",
      "File \u001b[0;32m~/Data/ollama_pdf_rag/.venv/lib/python3.12/site-packages/chromadb/api/segment.py:449\u001b[0m, in \u001b[0;36mSegmentAPI._upsert\u001b[0;34m(self, collection_id, ids, embeddings, metadatas, documents, uris)\u001b[0m\n\u001b[1;32m    447\u001b[0m coll \u001b[38;5;241m=\u001b[39m \u001b[38;5;28mself\u001b[39m\u001b[38;5;241m.\u001b[39m_get_collection(collection_id)\n\u001b[1;32m    448\u001b[0m \u001b[38;5;28mself\u001b[39m\u001b[38;5;241m.\u001b[39m_manager\u001b[38;5;241m.\u001b[39mhint_use_collection(collection_id, t\u001b[38;5;241m.\u001b[39mOperation\u001b[38;5;241m.\u001b[39mUPSERT)\n\u001b[0;32m--> 449\u001b[0m \u001b[43mvalidate_batch\u001b[49m\u001b[43m(\u001b[49m\n\u001b[1;32m    450\u001b[0m \u001b[43m    \u001b[49m\u001b[43m(\u001b[49m\u001b[43mids\u001b[49m\u001b[43m,\u001b[49m\u001b[43m \u001b[49m\u001b[43membeddings\u001b[49m\u001b[43m,\u001b[49m\u001b[43m \u001b[49m\u001b[43mmetadatas\u001b[49m\u001b[43m,\u001b[49m\u001b[43m \u001b[49m\u001b[43mdocuments\u001b[49m\u001b[43m,\u001b[49m\u001b[43m \u001b[49m\u001b[43muris\u001b[49m\u001b[43m)\u001b[49m\u001b[43m,\u001b[49m\n\u001b[1;32m    451\u001b[0m \u001b[43m    \u001b[49m\u001b[43m{\u001b[49m\u001b[38;5;124;43m\"\u001b[39;49m\u001b[38;5;124;43mmax_batch_size\u001b[39;49m\u001b[38;5;124;43m\"\u001b[39;49m\u001b[43m:\u001b[49m\u001b[43m \u001b[49m\u001b[38;5;28;43mself\u001b[39;49m\u001b[38;5;241;43m.\u001b[39;49m\u001b[43mget_max_batch_size\u001b[49m\u001b[43m(\u001b[49m\u001b[43m)\u001b[49m\u001b[43m}\u001b[49m\u001b[43m,\u001b[49m\n\u001b[1;32m    452\u001b[0m \u001b[43m\u001b[49m\u001b[43m)\u001b[49m\n\u001b[1;32m    453\u001b[0m records_to_submit \u001b[38;5;241m=\u001b[39m []\n\u001b[1;32m    454\u001b[0m \u001b[38;5;28;01mfor\u001b[39;00m r \u001b[38;5;129;01min\u001b[39;00m _records(\n\u001b[1;32m    455\u001b[0m     t\u001b[38;5;241m.\u001b[39mOperation\u001b[38;5;241m.\u001b[39mUPSERT,\n\u001b[1;32m    456\u001b[0m     ids\u001b[38;5;241m=\u001b[39mids,\n\u001b[0;32m   (...)\u001b[0m\n\u001b[1;32m    460\u001b[0m     uris\u001b[38;5;241m=\u001b[39muris,\n\u001b[1;32m    461\u001b[0m ):\n",
      "File \u001b[0;32m~/Data/ollama_pdf_rag/.venv/lib/python3.12/site-packages/chromadb/api/types.py:525\u001b[0m, in \u001b[0;36mvalidate_batch\u001b[0;34m(batch, limits)\u001b[0m\n\u001b[1;32m    514\u001b[0m \u001b[38;5;28;01mdef\u001b[39;00m \u001b[38;5;21mvalidate_batch\u001b[39m(\n\u001b[1;32m    515\u001b[0m     batch: Tuple[\n\u001b[1;32m    516\u001b[0m         IDs,\n\u001b[0;32m   (...)\u001b[0m\n\u001b[1;32m    522\u001b[0m     limits: Dict[\u001b[38;5;28mstr\u001b[39m, Any],\n\u001b[1;32m    523\u001b[0m ) \u001b[38;5;241m-\u001b[39m\u001b[38;5;241m>\u001b[39m \u001b[38;5;28;01mNone\u001b[39;00m:\n\u001b[1;32m    524\u001b[0m     \u001b[38;5;28;01mif\u001b[39;00m \u001b[38;5;28mlen\u001b[39m(batch[\u001b[38;5;241m0\u001b[39m]) \u001b[38;5;241m>\u001b[39m limits[\u001b[38;5;124m\"\u001b[39m\u001b[38;5;124mmax_batch_size\u001b[39m\u001b[38;5;124m\"\u001b[39m]:\n\u001b[0;32m--> 525\u001b[0m         \u001b[38;5;28;01mraise\u001b[39;00m \u001b[38;5;167;01mValueError\u001b[39;00m(\n\u001b[1;32m    526\u001b[0m             \u001b[38;5;124mf\u001b[39m\u001b[38;5;124m\"\u001b[39m\u001b[38;5;124mBatch size \u001b[39m\u001b[38;5;132;01m{\u001b[39;00m\u001b[38;5;28mlen\u001b[39m(batch[\u001b[38;5;241m0\u001b[39m])\u001b[38;5;132;01m}\u001b[39;00m\u001b[38;5;124m exceeds maximum batch size \u001b[39m\u001b[38;5;132;01m{\u001b[39;00mlimits[\u001b[38;5;124m'\u001b[39m\u001b[38;5;124mmax_batch_size\u001b[39m\u001b[38;5;124m'\u001b[39m]\u001b[38;5;132;01m}\u001b[39;00m\u001b[38;5;124m\"\u001b[39m\n\u001b[1;32m    527\u001b[0m         )\n",
      "\u001b[0;31mValueError\u001b[0m: Batch size 6123 exceeds maximum batch size 5461"
     ]
    }
   ],
   "source": [
    "vectorstore = send_chunks_to_chroma_Db(chunks)"
   ]
  },
  {
   "cell_type": "code",
   "execution_count": 7,
   "metadata": {},
   "outputs": [
    {
     "name": "stdout",
     "output_type": "stream",
     "text": [
      "4526\n",
      "4526\n",
      "dict_keys(['ids', 'embeddings', 'metadatas', 'documents', 'uris', 'data', 'included'])\n",
      "4526\n"
     ]
    }
   ],
   "source": [
    "print(len(vectorstore.get()['documents']))\n",
    "print(len(vectorstore.get()['ids']))\n",
    "print(vectorstore.get().keys())\n",
    "print(len(vectorstore.get()['metadatas']))"
   ]
  },
  {
   "cell_type": "code",
   "execution_count": 31,
   "metadata": {},
   "outputs": [
    {
     "name": "stdout",
     "output_type": "stream",
     "text": [
      "Number of Chunk Groups :  3\n"
     ]
    }
   ],
   "source": [
    "#how many chunks?\n",
    "count_max = 2000\n",
    "quotient = len(chunks) // count_max\n",
    "remainder = len(chunks) % count_max\n",
    "if remainder > 0:\n",
    "    total_chunks = quotient + 1\n",
    "else :\n",
    "    total_chunks = quotient\n",
    "print(\"Number of Chunk Groups : \", total_chunks)"
   ]
  },
  {
   "cell_type": "code",
   "execution_count": 32,
   "metadata": {},
   "outputs": [
    {
     "name": "stdout",
     "output_type": "stream",
     "text": [
      "Chunk name :  chunk-0\n",
      "Chunk name :  chunk-1\n",
      "Chunk name :  chunk-2\n",
      "Chunk List :  3\n"
     ]
    }
   ],
   "source": [
    "chunk_list = []\n",
    "for i in range(total_chunks):\n",
    "    chunk_name = f\"chunk-{i}\"\n",
    "    chunk_list.append(chunk_name)\n",
    "    print(\"Chunk name : \", chunk_name)\n",
    "print(\"Chunk List : \", len(chunk_list))"
   ]
  },
  {
   "cell_type": "code",
   "execution_count": 33,
   "metadata": {},
   "outputs": [],
   "source": [
    "def insert_into_chroma(chunk_list):\n",
    "    remaining = len(chunks)\n",
    "    for name in chunk_list:\n",
    "        if remaining > count_max :\n",
    "            name = chunks[:count_max]\n",
    "            remaining = remaining - count_max\n",
    "            print(\"Chunk Size : \", len(name))\n",
    "            vectorstore = send_chunks_to_chroma_Db(name)\n",
    "            print(\"sent chunks to DB : \", len(name))\n",
    "        else :\n",
    "            name = chunks[:remaining]\n",
    "            print(\"Last Chunk Size : \", len(name))\n",
    "            vectorstore = send_chunks_to_chroma_Db(name)\n",
    "            print(\"sent chunks to DB : \", len(name))\n",
    "    return vectorstore"
   ]
  },
  {
   "cell_type": "code",
   "execution_count": 9,
   "metadata": {},
   "outputs": [
    {
     "name": "stdout",
     "output_type": "stream",
     "text": [
      "Chunk Size :  2000\n",
      "Added chunks to DB :  2000\n",
      "loaded chromadb\n",
      "sent chunks to DB :  2000\n",
      "Chunk Size :  2000\n",
      "Added chunks to DB :  2000\n",
      "loaded chromadb\n",
      "sent chunks to DB :  2000\n",
      "Last Chunk Size :  1718\n",
      "Added chunks to DB :  1718\n",
      "loaded chromadb\n",
      "sent chunks to DB :  1718\n"
     ]
    }
   ],
   "source": [
    "vectorstore = insert_into_chroma(chunk_list)"
   ]
  },
  {
   "cell_type": "code",
   "execution_count": 34,
   "metadata": {},
   "outputs": [
    {
     "name": "stdout",
     "output_type": "stream",
     "text": [
      "5718\n",
      "5718\n",
      "dict_keys(['ids', 'embeddings', 'metadatas', 'documents', 'uris', 'data', 'included'])\n",
      "5718\n",
      "5718\n"
     ]
    }
   ],
   "source": [
    "print(len(vectorstore.get()['documents']))\n",
    "print(len(vectorstore.get()['ids']))\n",
    "print(vectorstore.get().keys())\n",
    "print(len(vectorstore.get()['metadatas']))\n",
    "print(vectorstore._collection.count())"
   ]
  },
  {
   "cell_type": "code",
   "execution_count": 35,
   "metadata": {},
   "outputs": [],
   "source": [
    "from langchain_core.runnables import RunnablePassthrough\n",
    "from langchain_core.prompts import PromptTemplate\n",
    "from langchain_core.output_parsers import StrOutputParser\n",
    "from langchain_openai import ChatOpenAI\n",
    "\n",
    "llm = ChatOpenAI(model_name=\"gpt-3.5-turbo\", temperature=0)\n",
    "\n",
    "PROMPT_TEMPLATE = \"\"\"\n",
    "Human: You are an AI assistant, and provides answers to questions by using fact based and statistical information when possible.\n",
    "Use the following pieces of information to provide a concise answer to the question enclosed in <question> tags.\n",
    "Your will be presented with a document containing 3 columns\n",
    "The first column is \"Commit ID\". This is the primary key and will be unique\n",
    "The Second column is \"Changes\"\n",
    "The Third column is \"Comments\"\n",
    "Each unique \"Commit ID\" will be a row containing \"Changes\" and \"Comments\"\n",
    "So, if there are 20 commit IDs, there would be 20 rows\n",
    "Look through the whole document before answering the question.\n",
    "If you don't know the answer, just say that you don't know, don't try to make up an answer.\n",
    "<context>\n",
    "{context}\n",
    "</context>\n",
    "\n",
    "<question>\n",
    "{question}\n",
    "</question>\n",
    "\n",
    "The response should be specific and use statistics or numbers when possible.\n",
    "\n",
    "Assistant:\"\"\"\n",
    "\n",
    "prompt = PromptTemplate(\n",
    "    template=PROMPT_TEMPLATE, input_variables=[\"context\", \"question\"]\n",
    ")\n",
    "retriever = vectorstore.as_retriever(search_kwargs={\"k\": 200})\n",
    "#retriever = vectorstore.as_retriever(search_type=\"similarity_score_threshold\", search_kwargs={'score_threshold': 0.5})\n",
    "#retriever = vectorstore.as_retriever(search_type=\"mmr\",search_kwargs={'k': 50, 'fetch_k': 100})\n",
    "\n",
    "def format_docs(docs):\n",
    "    return \"\\n\\n\".join(doc.page_content for doc in docs)\n"
   ]
  },
  {
   "cell_type": "code",
   "execution_count": 36,
   "metadata": {},
   "outputs": [
    {
     "name": "stdout",
     "output_type": "stream",
     "text": [
      "There are 10 unique Commit IDs present:\n",
      "1. c1fcce1636d4e6a240fbaf6ffa6c30058c08e69e\n",
      "2. 26d2d44b12c28580549b6ade52bb6a4949cfe521\n",
      "3. 97ac5a506b358d29c298aecadd41060d62cecc4b\n",
      "4. 1463a176bf652172560c3893c84b61c86e1b47f5\n",
      "5. 949be2ac0e957cfbe981da242384424b4786067a\n",
      "6. 3ecedef3e81ac4104fe3f0a028aafad496ed6b42\n",
      "7. 0fa74824f9fefec08acfe117866dc587563730d5\n",
      "8. 39c8f648fdb08e8717237ae4ffca5b181cd3fd33\n",
      "9. 4acc32ac9bf2dde41083bac73dc15f89cc69345d\n",
      "10. 0d3877667\n"
     ]
    }
   ],
   "source": [
    "rag_chain = (\n",
    "    {\"context\": retriever | format_docs, \"question\": RunnablePassthrough()}\n",
    "    | prompt\n",
    "    | llm\n",
    "    | StrOutputParser()\n",
    ")\n",
    "\n",
    "query = \"How many unique Commit ID are present? print them\"\n",
    "#query = \"Print all the unique commit ID\"\n",
    "#query = \"How many rows are present in the documents?\"\n",
    "#query = \"how many columns are present and which is the 2nd column?\"\n",
    "#query = \"How many unique Commit ID are present? Which are the 2 most similar commit IDs and why?\"\n",
    "\n",
    "res = rag_chain.invoke(query)\n",
    "print(res)"
   ]
  },
  {
   "cell_type": "code",
   "execution_count": 23,
   "metadata": {},
   "outputs": [],
   "source": [
    "vectorstore.delete_collection()"
   ]
  },
  {
   "cell_type": "code",
   "execution_count": 24,
   "metadata": {},
   "outputs": [
    {
     "ename": "ValueError",
     "evalue": "Chroma collection not initialized. Use `reset_collection` to re-create and initialize the collection. ",
     "output_type": "error",
     "traceback": [
      "\u001b[0;31m---------------------------------------------------------------------------\u001b[0m",
      "\u001b[0;31mValueError\u001b[0m                                Traceback (most recent call last)",
      "Cell \u001b[0;32mIn[24], line 1\u001b[0m\n\u001b[0;32m----> 1\u001b[0m \u001b[38;5;28mprint\u001b[39m(\u001b[38;5;28mlen\u001b[39m(\u001b[43mvectorstore\u001b[49m\u001b[38;5;241;43m.\u001b[39;49m\u001b[43mget\u001b[49m\u001b[43m(\u001b[49m\u001b[43m)\u001b[49m[\u001b[38;5;124m'\u001b[39m\u001b[38;5;124mdocuments\u001b[39m\u001b[38;5;124m'\u001b[39m]))\n\u001b[1;32m      2\u001b[0m \u001b[38;5;28mprint\u001b[39m(\u001b[38;5;28mlen\u001b[39m(vectorstore\u001b[38;5;241m.\u001b[39mget()[\u001b[38;5;124m'\u001b[39m\u001b[38;5;124mids\u001b[39m\u001b[38;5;124m'\u001b[39m]))\n\u001b[1;32m      3\u001b[0m \u001b[38;5;28mprint\u001b[39m(vectorstore\u001b[38;5;241m.\u001b[39mget()\u001b[38;5;241m.\u001b[39mkeys())\n",
      "File \u001b[0;32m~/Data/ollama_pdf_rag/.venv/lib/python3.12/site-packages/langchain_chroma/vectorstores.py:969\u001b[0m, in \u001b[0;36mChroma.get\u001b[0;34m(self, ids, where, limit, offset, where_document, include)\u001b[0m\n\u001b[1;32m    966\u001b[0m \u001b[38;5;28;01mif\u001b[39;00m include \u001b[38;5;129;01mis\u001b[39;00m \u001b[38;5;129;01mnot\u001b[39;00m \u001b[38;5;28;01mNone\u001b[39;00m:\n\u001b[1;32m    967\u001b[0m     kwargs[\u001b[38;5;124m\"\u001b[39m\u001b[38;5;124minclude\u001b[39m\u001b[38;5;124m\"\u001b[39m] \u001b[38;5;241m=\u001b[39m include\n\u001b[0;32m--> 969\u001b[0m \u001b[38;5;28;01mreturn\u001b[39;00m \u001b[38;5;28;43mself\u001b[39;49m\u001b[38;5;241;43m.\u001b[39;49m\u001b[43m_collection\u001b[49m\u001b[38;5;241m.\u001b[39mget(\u001b[38;5;241m*\u001b[39m\u001b[38;5;241m*\u001b[39mkwargs)\n",
      "File \u001b[0;32m~/Data/ollama_pdf_rag/.venv/lib/python3.12/site-packages/langchain_chroma/vectorstores.py:340\u001b[0m, in \u001b[0;36mChroma._collection\u001b[0;34m(self)\u001b[0m\n\u001b[1;32m    338\u001b[0m \u001b[38;5;250m\u001b[39m\u001b[38;5;124;03m\"\"\"Returns the underlying Chroma collection or throws an exception.\"\"\"\u001b[39;00m\n\u001b[1;32m    339\u001b[0m \u001b[38;5;28;01mif\u001b[39;00m \u001b[38;5;28mself\u001b[39m\u001b[38;5;241m.\u001b[39m_chroma_collection \u001b[38;5;129;01mis\u001b[39;00m \u001b[38;5;28;01mNone\u001b[39;00m:\n\u001b[0;32m--> 340\u001b[0m     \u001b[38;5;28;01mraise\u001b[39;00m \u001b[38;5;167;01mValueError\u001b[39;00m(\n\u001b[1;32m    341\u001b[0m         \u001b[38;5;124m\"\u001b[39m\u001b[38;5;124mChroma collection not initialized. \u001b[39m\u001b[38;5;124m\"\u001b[39m\n\u001b[1;32m    342\u001b[0m         \u001b[38;5;124m\"\u001b[39m\u001b[38;5;124mUse `reset_collection` to re-create and initialize the collection. \u001b[39m\u001b[38;5;124m\"\u001b[39m\n\u001b[1;32m    343\u001b[0m     )\n\u001b[1;32m    344\u001b[0m \u001b[38;5;28;01mreturn\u001b[39;00m \u001b[38;5;28mself\u001b[39m\u001b[38;5;241m.\u001b[39m_chroma_collection\n",
      "\u001b[0;31mValueError\u001b[0m: Chroma collection not initialized. Use `reset_collection` to re-create and initialize the collection. "
     ]
    }
   ],
   "source": [
    "print(len(vectorstore.get()['documents']))\n",
    "print(len(vectorstore.get()['ids']))\n",
    "print(vectorstore.get().keys())\n",
    "print(len(vectorstore.get()['metadatas']))\n",
    "print(vectorstore._collection.count())"
   ]
  }
 ],
 "metadata": {
  "kernelspec": {
   "display_name": ".venv",
   "language": "python",
   "name": "python3"
  },
  "language_info": {
   "codemirror_mode": {
    "name": "ipython",
    "version": 3
   },
   "file_extension": ".py",
   "mimetype": "text/x-python",
   "name": "python",
   "nbconvert_exporter": "python",
   "pygments_lexer": "ipython3",
   "version": "3.12.3"
  }
 },
 "nbformat": 4,
 "nbformat_minor": 2
}
