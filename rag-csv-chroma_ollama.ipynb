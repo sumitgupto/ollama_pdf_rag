{
 "cells": [
  {
   "cell_type": "code",
   "execution_count": 3,
   "metadata": {},
   "outputs": [
    {
     "name": "stdout",
     "output_type": "stream",
     "text": [
      "Found .env: %s True\n"
     ]
    }
   ],
   "source": [
    "from dotenv import load_dotenv, find_dotenv\n",
    "founddotenv = load_dotenv(find_dotenv(), override=True) \n",
    "print(\"Found .env: %s\", founddotenv)"
   ]
  },
  {
   "cell_type": "code",
   "execution_count": 4,
   "metadata": {},
   "outputs": [],
   "source": [
    "from langchain_community.document_loaders.csv_loader import CSVLoader\n",
    "path = \"./pull_requests_summary.csv\"\n",
    "\n",
    "import csv\n",
    "csv.field_size_limit(10**6)\n",
    "\n",
    "loader = CSVLoader(file_path=path, encoding=\"utf-8\", csv_args={'delimiter': ','})\n",
    "data = loader.load()"
   ]
  },
  {
   "cell_type": "code",
   "execution_count": 5,
   "metadata": {},
   "outputs": [],
   "source": [
    "from langchain_community.embeddings import OllamaEmbeddings\n",
    "embeddings = OllamaEmbeddings(model=\"nomic-embed-text\", show_progress=True) #mxbai-embed-large"
   ]
  },
  {
   "cell_type": "code",
   "execution_count": 12,
   "metadata": {},
   "outputs": [],
   "source": [
    "#from langchain.vectorstores.chroma import Chroma\n",
    "from langchain_chroma import Chroma\n",
    "def send_chunks_to_chroma_Db (subchunk) :   \n",
    "    vectorstore = Chroma.from_documents(\n",
    "        documents = subchunk,\n",
    "        #collection_name=\"myRAG-CSV\",\n",
    "        embedding = embeddings,\n",
    "        persist_directory=\"./chroma_db_csv_ollama\", \n",
    "        )\n",
    "    #vectorstore.persist()\n",
    "    print(\"Added chunks to DB : \", len(subchunk))\n",
    "\n",
    "    #vectorstore = Chroma(persist_directory=\"./chroma_db_csv\", embedding_function=embeddings)\n",
    "    print(\"loaded chromadb\")\n",
    "\n",
    "    return vectorstore"
   ]
  },
  {
   "cell_type": "code",
   "execution_count": 13,
   "metadata": {},
   "outputs": [
    {
     "name": "stdout",
     "output_type": "stream",
     "text": [
      "Total Chunks :  5718\n"
     ]
    }
   ],
   "source": [
    "from langchain_text_splitters import RecursiveCharacterTextSplitter\n",
    "text_splitter = RecursiveCharacterTextSplitter(chunk_size=200, chunk_overlap=25)\n",
    "chunks = text_splitter.split_documents(data)\n",
    "print(\"Total Chunks : \", len(chunks))"
   ]
  },
  {
   "cell_type": "code",
   "execution_count": 8,
   "metadata": {},
   "outputs": [
    {
     "name": "stdout",
     "output_type": "stream",
     "text": [
      "\n",
      "Counter :  1 page_content='Commit ID: 1463a176bf652172560c3893c84b61c86e1b47f5' metadata={'source': './pull_requests_summary.csv', 'row': 0}\n",
      "\n",
      "Counter :  2 page_content='Commit ID: 39c8f648fdb08e8717237ae4ffca5b181cd3fd33\n",
      "Changes: diff --git a/gradle.properties b/gradle.properties\n",
      "index 63e41475e..541cd2205 100644\n",
      "--- a/gradle.properties\n",
      "+++ b/gradle.properties' metadata={'source': './pull_requests_summary.csv', 'row': 1}\n",
      "\n",
      "Counter :  3 page_content='Commit ID: 949be2ac0e957cfbe981da242384424b4786067a' metadata={'source': './pull_requests_summary.csv', 'row': 2}\n",
      "\n",
      "Counter :  4 page_content='Commit ID: 4acc32ac9bf2dde41083bac73dc15f89cc69345d\n",
      "Changes: diff --git a/build.gradle b/build.gradle\n",
      "index 71e710c22..4ef6125d0 100644\n",
      "--- a/build.gradle\n",
      "+++ b/build.gradle' metadata={'source': './pull_requests_summary.csv', 'row': 3}\n",
      "\n",
      "Counter :  5 page_content='Commit ID: 97ac5a506b358d29c298aecadd41060d62cecc4b' metadata={'source': './pull_requests_summary.csv', 'row': 4}\n",
      "\n",
      "Counter :  6 page_content='Commit ID: c1fcce1636d4e6a240fbaf6ffa6c30058c08e69e' metadata={'source': './pull_requests_summary.csv', 'row': 5}\n",
      "\n",
      "Counter :  7 page_content='Commit ID: 3ecedef3e81ac4104fe3f0a028aafad496ed6b42' metadata={'source': './pull_requests_summary.csv', 'row': 6}\n",
      "\n",
      "Counter :  8 page_content='Commit ID: 0fa74824f9fefec08acfe117866dc587563730d5\n",
      "Changes: diff --git a/gradle.properties b/gradle.properties\n",
      "index 5092163a0..66317d62f 100644\n",
      "--- a/gradle.properties\n",
      "+++ b/gradle.properties' metadata={'source': './pull_requests_summary.csv', 'row': 7}\n",
      "\n",
      "Counter :  9 page_content='Commit ID: 26d2d44b12c28580549b6ade52bb6a4949cfe521' metadata={'source': './pull_requests_summary.csv', 'row': 8}\n",
      "\n",
      "Counter :  10 page_content='Commit ID: 8a493a8f89f9c9d108922bd83af39f776ee6c76b\n",
      "Changes: diff --git a/gradle.properties b/gradle.properties\n",
      "index 319096b1c..5092163a0 100644\n",
      "--- a/gradle.properties\n",
      "+++ b/gradle.properties' metadata={'source': './pull_requests_summary.csv', 'row': 9}\n",
      "\n",
      "Counter :  11 page_content='Commit ID: c8ece09049aab49a3563e0270356ff252cab07ec\n",
      "Changes: diff --git a/gradle.properties b/gradle.properties\n",
      "index c1cfa6731..63e41475e 100644\n",
      "--- a/gradle.properties\n",
      "+++ b/gradle.properties' metadata={'source': './pull_requests_summary.csv', 'row': 10}\n",
      "\n",
      "Counter :  12 page_content='Commit ID: d44fe09aad42bdaee71ec01ad46ea9373838cc79' metadata={'source': './pull_requests_summary.csv', 'row': 11}\n",
      "\n",
      "Counter :  13 page_content='Commit ID: 4ea394f68edacf25c6b41658737b12cfefda78a1' metadata={'source': './pull_requests_summary.csv', 'row': 12}\n",
      "\n",
      "Counter :  14 page_content='Commit ID: aab97ad907a4f75829db8a0c13c1100dbbb2cfde\n",
      "Changes: diff --git a/build.gradle b/build.gradle\n",
      "index 8b39d38de..71e710c22 100644\n",
      "--- a/build.gradle\n",
      "+++ b/build.gradle' metadata={'source': './pull_requests_summary.csv', 'row': 13}\n",
      "\n",
      "Counter :  15 page_content='Commit ID: 8f0a90296125be546416d56ccc90faa7eeaa4e20' metadata={'source': './pull_requests_summary.csv', 'row': 14}\n",
      "\n",
      "Counter :  16 page_content='Commit ID: 1726ba0c9980202ff423428aa46c579d9ee36e03' metadata={'source': './pull_requests_summary.csv', 'row': 15}\n",
      "\n",
      "Counter :  17 page_content='Commit ID: 259e4d6596ca63e2068bbe51e4671d706bb9472a' metadata={'source': './pull_requests_summary.csv', 'row': 16}\n",
      "\n",
      "Counter :  18 page_content='Commit ID: eaaee88fd31f620451b7e0d94302793da4c0f041' metadata={'source': './pull_requests_summary.csv', 'row': 17}\n",
      "\n",
      "Counter :  19 page_content='Commit ID: af9fa033fc9e5fee1506a0ae7178048359f38d5c' metadata={'source': './pull_requests_summary.csv', 'row': 18}\n",
      "\n",
      "Counter :  20 page_content='Commit ID: 7c4a8faa6431b0390253e9dbaaba58d401647fd9\n",
      "Changes: diff --git a/build.gradle b/build.gradle\n",
      "index b56604a6c..8b39d38de 100644\n",
      "--- a/build.gradle\n",
      "+++ b/build.gradle' metadata={'source': './pull_requests_summary.csv', 'row': 19}\n"
     ]
    }
   ],
   "source": [
    "counter = 0\n",
    "for chunk in chunks:\n",
    "    if \"Commit ID\" in chunk.page_content:\n",
    "        counter = counter+1\n",
    "        print(\"\\nCounter : \", counter, chunk)"
   ]
  },
  {
   "cell_type": "code",
   "execution_count": 14,
   "metadata": {},
   "outputs": [
    {
     "name": "stdout",
     "output_type": "stream",
     "text": [
      "Number of Chunk Groups :  3\n"
     ]
    }
   ],
   "source": [
    "#how many chunks?\n",
    "count_max = 2000\n",
    "quotient = len(chunks) // count_max\n",
    "remainder = len(chunks) % count_max\n",
    "if remainder > 0:\n",
    "    total_chunks = quotient + 1\n",
    "else :\n",
    "    total_chunks = quotient\n",
    "print(\"Number of Chunk Groups : \", total_chunks)"
   ]
  },
  {
   "cell_type": "code",
   "execution_count": 15,
   "metadata": {},
   "outputs": [
    {
     "name": "stdout",
     "output_type": "stream",
     "text": [
      "Chunk name :  chunk-0\n",
      "Chunk name :  chunk-1\n",
      "Chunk name :  chunk-2\n",
      "Chunk List :  3\n"
     ]
    }
   ],
   "source": [
    "chunk_list = []\n",
    "for i in range(total_chunks):\n",
    "    chunk_name = f\"chunk-{i}\"\n",
    "    chunk_list.append(chunk_name)\n",
    "    print(\"Chunk name : \", chunk_name)\n",
    "print(\"Chunk List : \", len(chunk_list))"
   ]
  },
  {
   "cell_type": "code",
   "execution_count": 16,
   "metadata": {},
   "outputs": [],
   "source": [
    "def insert_into_chroma(chunk_list):\n",
    "    remaining = len(chunks)\n",
    "    for name in chunk_list:\n",
    "        if remaining > count_max :\n",
    "            name = chunks[:count_max]\n",
    "            remaining = remaining - count_max\n",
    "            print(\"Chunk Size : \", len(name))\n",
    "            vectorstore = send_chunks_to_chroma_Db(name)\n",
    "            print(\"sent chunks to DB : \", len(name))\n",
    "        else :\n",
    "            name = chunks[:remaining]\n",
    "            print(\"Last Chunk Size : \", len(name))\n",
    "            vectorstore = send_chunks_to_chroma_Db(name)\n",
    "            print(\"sent chunks to DB : \", len(name))\n",
    "    return vectorstore"
   ]
  },
  {
   "cell_type": "code",
   "execution_count": 18,
   "metadata": {},
   "outputs": [
    {
     "name": "stdout",
     "output_type": "stream",
     "text": [
      "Chunk Size :  2000\n"
     ]
    },
    {
     "name": "stderr",
     "output_type": "stream",
     "text": [
      "OllamaEmbeddings: 100%|██████████| 2000/2000 [01:06<00:00, 29.96it/s]\n"
     ]
    },
    {
     "name": "stdout",
     "output_type": "stream",
     "text": [
      "Added chunks to DB :  2000\n",
      "loaded chromadb\n",
      "sent chunks to DB :  2000\n",
      "Chunk Size :  2000\n"
     ]
    },
    {
     "name": "stderr",
     "output_type": "stream",
     "text": [
      "OllamaEmbeddings: 100%|██████████| 2000/2000 [01:00<00:00, 32.90it/s]\n"
     ]
    },
    {
     "name": "stdout",
     "output_type": "stream",
     "text": [
      "Added chunks to DB :  2000\n",
      "loaded chromadb\n",
      "sent chunks to DB :  2000\n",
      "Last Chunk Size :  1718\n"
     ]
    },
    {
     "name": "stderr",
     "output_type": "stream",
     "text": [
      "OllamaEmbeddings: 100%|██████████| 1718/1718 [00:51<00:00, 33.30it/s]\n"
     ]
    },
    {
     "name": "stdout",
     "output_type": "stream",
     "text": [
      "Added chunks to DB :  1718\n",
      "loaded chromadb\n",
      "sent chunks to DB :  1718\n"
     ]
    }
   ],
   "source": [
    "vectorstore = insert_into_chroma(chunk_list)"
   ]
  },
  {
   "cell_type": "code",
   "execution_count": 19,
   "metadata": {},
   "outputs": [
    {
     "name": "stdout",
     "output_type": "stream",
     "text": [
      "5718\n",
      "5718\n",
      "dict_keys(['ids', 'embeddings', 'metadatas', 'documents', 'uris', 'data', 'included'])\n",
      "5718\n",
      "5718\n"
     ]
    }
   ],
   "source": [
    "print(len(vectorstore.get()['documents']))\n",
    "print(len(vectorstore.get()['ids']))\n",
    "print(vectorstore.get().keys())\n",
    "print(len(vectorstore.get()['metadatas']))\n",
    "print(vectorstore._collection.count())"
   ]
  },
  {
   "cell_type": "code",
   "execution_count": 41,
   "metadata": {},
   "outputs": [],
   "source": [
    "from langchain_core.runnables import RunnablePassthrough\n",
    "from langchain_core.prompts import PromptTemplate\n",
    "from langchain_core.output_parsers import StrOutputParser\n",
    "from langchain_community.chat_models import ChatOllama\n",
    "\n",
    "llm = ChatOllama(model=\"llama3.1\", temperature=0)\n",
    "\n",
    "PROMPT_TEMPLATE = \"\"\"\n",
    "Human: You are an AI assistant, and provides answers to questions by using fact based and statistical information when possible.\n",
    "Use the following pieces of information to provide a concise answer to the question enclosed in <question> tags.\n",
    "Your will be presented with a document containing 3 columns\n",
    "The first column is \"Commit ID\". This is the primary key and will be unique\n",
    "The Second column is \"Changes\"\n",
    "The Third column is \"Comments\"\n",
    "Each unique \"Commit ID\" will be a row containing \"Changes\" and \"Comments\"\n",
    "So, if there are 20 commit IDs, there would be 20 rows\n",
    "Look through the whole document before answering the question.\n",
    "If you don't know the answer, just say that you don't know, don't try to make up an answer.\n",
    "<context>\n",
    "{context}\n",
    "</context>\n",
    "\n",
    "<question>\n",
    "{question}\n",
    "</question>\n",
    "\n",
    "The response should be specific and use statistics or numbers when possible.\n",
    "\n",
    "Assistant:\"\"\"\n",
    "\n",
    "prompt = PromptTemplate(\n",
    "    template=PROMPT_TEMPLATE, input_variables=[\"context\", \"question\"]\n",
    ")\n",
    "retriever = vectorstore.as_retriever(search_kwargs={\"k\": 25})\n",
    "#retriever = vectorstore.as_retriever(search_type=\"similarity_score_threshold\", search_kwargs={'score_threshold': 0.5})\n",
    "#retriever = vectorstore.as_retriever(search_type=\"mmr\",search_kwargs={'k': 50, 'fetch_k': 100})\n",
    "\n",
    "def format_docs(docs):\n",
    "    return \"\\n\\n\".join(doc.page_content for doc in docs)\n"
   ]
  },
  {
   "cell_type": "code",
   "execution_count": 42,
   "metadata": {},
   "outputs": [
    {
     "name": "stderr",
     "output_type": "stream",
     "text": [
      "OllamaEmbeddings: 100%|██████████| 1/1 [00:00<00:00,  4.14it/s]\n"
     ]
    },
    {
     "name": "stdout",
     "output_type": "stream",
     "text": [
      "Based on the provided document, I have counted the unique \"Commit ID\" values. There are 9 unique \"Commit ID\" values:\n",
      "\n",
      "1. 3ecedef3e81ac4104fe3f0a028aafad496ed6b42\n",
      "2. 1463a176bf652172560c3893c84b61c86e1b47f5\n",
      "3. 26d2d44b12c28580549b6ade52bb6a4949cfe521\n",
      "4. c1fcce1636d4e6a240fbaf6ffa6c30058c08e69e\n",
      "5. 4acc32ac9bf2dde41083bac73dc15f89cc69345d\n",
      "6. 949be2ac0e957cfbe981da242384424b4786067a\n",
      "7. 97ac5a506b358d29c298aecadd41060d62cecc4b\n",
      "8. 0fa74824f9fefec08acfe117866dc587563730d5\n",
      "9. 39c8f648fdb08e8717237ae4ffca5b181cd3fd33\n"
     ]
    }
   ],
   "source": [
    "rag_chain = (\n",
    "    {\"context\": retriever | format_docs, \"question\": RunnablePassthrough()}\n",
    "    | prompt\n",
    "    | llm\n",
    "    | StrOutputParser()\n",
    ")\n",
    "\n",
    "query = \"How many unique Commit ID are present? print them\"\n",
    "#query = \"Print all the unique commit ID\"\n",
    "#query = \"How many rows are present in the documents?\"\n",
    "#query = \"how many columns are present and which is the 2nd column?\"\n",
    "#query = \"How many unique Commit ID are present? Which are the 2 most similar commit IDs and why?\"\n",
    "\n",
    "res = rag_chain.invoke(query)\n",
    "print(res)"
   ]
  },
  {
   "cell_type": "code",
   "execution_count": 23,
   "metadata": {},
   "outputs": [],
   "source": [
    "vectorstore.delete_collection()"
   ]
  },
  {
   "cell_type": "code",
   "execution_count": 24,
   "metadata": {},
   "outputs": [
    {
     "ename": "ValueError",
     "evalue": "Chroma collection not initialized. Use `reset_collection` to re-create and initialize the collection. ",
     "output_type": "error",
     "traceback": [
      "\u001b[0;31m---------------------------------------------------------------------------\u001b[0m",
      "\u001b[0;31mValueError\u001b[0m                                Traceback (most recent call last)",
      "Cell \u001b[0;32mIn[24], line 1\u001b[0m\n\u001b[0;32m----> 1\u001b[0m \u001b[38;5;28mprint\u001b[39m(\u001b[38;5;28mlen\u001b[39m(\u001b[43mvectorstore\u001b[49m\u001b[38;5;241;43m.\u001b[39;49m\u001b[43mget\u001b[49m\u001b[43m(\u001b[49m\u001b[43m)\u001b[49m[\u001b[38;5;124m'\u001b[39m\u001b[38;5;124mdocuments\u001b[39m\u001b[38;5;124m'\u001b[39m]))\n\u001b[1;32m      2\u001b[0m \u001b[38;5;28mprint\u001b[39m(\u001b[38;5;28mlen\u001b[39m(vectorstore\u001b[38;5;241m.\u001b[39mget()[\u001b[38;5;124m'\u001b[39m\u001b[38;5;124mids\u001b[39m\u001b[38;5;124m'\u001b[39m]))\n\u001b[1;32m      3\u001b[0m \u001b[38;5;28mprint\u001b[39m(vectorstore\u001b[38;5;241m.\u001b[39mget()\u001b[38;5;241m.\u001b[39mkeys())\n",
      "File \u001b[0;32m~/Data/ollama_pdf_rag/.venv/lib/python3.12/site-packages/langchain_chroma/vectorstores.py:969\u001b[0m, in \u001b[0;36mChroma.get\u001b[0;34m(self, ids, where, limit, offset, where_document, include)\u001b[0m\n\u001b[1;32m    966\u001b[0m \u001b[38;5;28;01mif\u001b[39;00m include \u001b[38;5;129;01mis\u001b[39;00m \u001b[38;5;129;01mnot\u001b[39;00m \u001b[38;5;28;01mNone\u001b[39;00m:\n\u001b[1;32m    967\u001b[0m     kwargs[\u001b[38;5;124m\"\u001b[39m\u001b[38;5;124minclude\u001b[39m\u001b[38;5;124m\"\u001b[39m] \u001b[38;5;241m=\u001b[39m include\n\u001b[0;32m--> 969\u001b[0m \u001b[38;5;28;01mreturn\u001b[39;00m \u001b[38;5;28;43mself\u001b[39;49m\u001b[38;5;241;43m.\u001b[39;49m\u001b[43m_collection\u001b[49m\u001b[38;5;241m.\u001b[39mget(\u001b[38;5;241m*\u001b[39m\u001b[38;5;241m*\u001b[39mkwargs)\n",
      "File \u001b[0;32m~/Data/ollama_pdf_rag/.venv/lib/python3.12/site-packages/langchain_chroma/vectorstores.py:340\u001b[0m, in \u001b[0;36mChroma._collection\u001b[0;34m(self)\u001b[0m\n\u001b[1;32m    338\u001b[0m \u001b[38;5;250m\u001b[39m\u001b[38;5;124;03m\"\"\"Returns the underlying Chroma collection or throws an exception.\"\"\"\u001b[39;00m\n\u001b[1;32m    339\u001b[0m \u001b[38;5;28;01mif\u001b[39;00m \u001b[38;5;28mself\u001b[39m\u001b[38;5;241m.\u001b[39m_chroma_collection \u001b[38;5;129;01mis\u001b[39;00m \u001b[38;5;28;01mNone\u001b[39;00m:\n\u001b[0;32m--> 340\u001b[0m     \u001b[38;5;28;01mraise\u001b[39;00m \u001b[38;5;167;01mValueError\u001b[39;00m(\n\u001b[1;32m    341\u001b[0m         \u001b[38;5;124m\"\u001b[39m\u001b[38;5;124mChroma collection not initialized. \u001b[39m\u001b[38;5;124m\"\u001b[39m\n\u001b[1;32m    342\u001b[0m         \u001b[38;5;124m\"\u001b[39m\u001b[38;5;124mUse `reset_collection` to re-create and initialize the collection. \u001b[39m\u001b[38;5;124m\"\u001b[39m\n\u001b[1;32m    343\u001b[0m     )\n\u001b[1;32m    344\u001b[0m \u001b[38;5;28;01mreturn\u001b[39;00m \u001b[38;5;28mself\u001b[39m\u001b[38;5;241m.\u001b[39m_chroma_collection\n",
      "\u001b[0;31mValueError\u001b[0m: Chroma collection not initialized. Use `reset_collection` to re-create and initialize the collection. "
     ]
    }
   ],
   "source": [
    "print(len(vectorstore.get()['documents']))\n",
    "print(len(vectorstore.get()['ids']))\n",
    "print(vectorstore.get().keys())\n",
    "print(len(vectorstore.get()['metadatas']))\n",
    "print(vectorstore._collection.count())"
   ]
  }
 ],
 "metadata": {
  "kernelspec": {
   "display_name": ".venv",
   "language": "python",
   "name": "python3"
  },
  "language_info": {
   "codemirror_mode": {
    "name": "ipython",
    "version": 3
   },
   "file_extension": ".py",
   "mimetype": "text/x-python",
   "name": "python",
   "nbconvert_exporter": "python",
   "pygments_lexer": "ipython3",
   "version": "3.12.3"
  }
 },
 "nbformat": 4,
 "nbformat_minor": 2
}
