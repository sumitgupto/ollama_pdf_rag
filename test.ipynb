{
 "cells": [
  {
   "cell_type": "code",
   "execution_count": 1,
   "metadata": {},
   "outputs": [
    {
     "name": "stdout",
     "output_type": "stream",
     "text": [
      "('my_file', '.txt')\n",
      "File Name:  my_file\n",
      "File Extension:  .txt\n"
     ]
    }
   ],
   "source": [
    "import os\n",
    " \n",
    "# this will return a tuple of root and extension\n",
    "split_tup = os.path.splitext('my_file.txt')\n",
    "print(split_tup)\n",
    " \n",
    "# extract the file name and extension\n",
    "file_name = split_tup[0]\n",
    "file_extension = split_tup[1]\n",
    " \n",
    "print(\"File Name: \", file_name)\n",
    "print(\"File Extension: \", file_extension)"
   ]
  },
  {
   "cell_type": "code",
   "execution_count": 2,
   "metadata": {},
   "outputs": [],
   "source": [
    "from dotenv import load_dotenv, find_dotenv\n",
    "founddotenv = load_dotenv(find_dotenv(), override=True) "
   ]
  },
  {
   "cell_type": "code",
   "execution_count": 25,
   "metadata": {},
   "outputs": [
    {
     "name": "stdout",
     "output_type": "stream",
     "text": [
      "20\n"
     ]
    }
   ],
   "source": [
    "from langchain_community.document_loaders.csv_loader import CSVLoader\n",
    "path = \"./pull_requests_summary.csv\"\n",
    "\n",
    "import csv\n",
    "csv.field_size_limit(10**6)\n",
    "\n",
    "loader = CSVLoader(file_path=path, encoding=\"utf-8\", csv_args={'delimiter': ','})\n",
    "data = loader.load()\n",
    "\n",
    "print(len(data))"
   ]
  },
  {
   "cell_type": "code",
   "execution_count": 61,
   "metadata": {},
   "outputs": [
    {
     "name": "stdout",
     "output_type": "stream",
     "text": [
      "20\n"
     ]
    }
   ],
   "source": [
    "from langchain_chroma import Chroma\n",
    "from langchain_community.embeddings import OllamaEmbeddings\n",
    "embeddings = OllamaEmbeddings(model=\"nomic-embed-text\", show_progress=True)\n",
    "\n",
    "vector_store = Chroma(\n",
    "    collection_name=\"example_collection\",\n",
    "    embedding_function=embeddings,\n",
    "    persist_directory=\"./chroma_langchain_db\",  # Where to save data locally, remove if not neccesary\n",
    ")\n",
    "\n",
    "print(vector_store._collection.count())"
   ]
  },
  {
   "cell_type": "code",
   "execution_count": 59,
   "metadata": {},
   "outputs": [
    {
     "name": "stdout",
     "output_type": "stream",
     "text": [
      "found collection to be deleted :  20\n"
     ]
    },
    {
     "name": "stderr",
     "output_type": "stream",
     "text": [
      "OllamaEmbeddings: 100%|██████████| 20/20 [00:07<00:00,  2.68it/s]\n"
     ]
    },
    {
     "data": {
      "text/plain": [
       "['cd553667-8bc8-41bf-bf50-37de2e0c0a1e',\n",
       " '2d1ab635-0818-43dd-a885-01a0d2a86bf9',\n",
       " 'bb7f7649-ecf2-494f-a618-c7f7fc57ab34',\n",
       " '1d7df5e4-1f14-46a2-9134-24ef72f33f8a',\n",
       " '53bc6db6-f5be-4bc0-8af3-b734971c10ef',\n",
       " '820ee2b7-796a-486a-8857-692301bbca7a',\n",
       " 'bac7bec8-8ec8-4bf9-8828-ffc4d168149a',\n",
       " '3f58194e-c581-45cd-9d4f-f81063e7e00d',\n",
       " '179f3115-65a8-4d02-8638-5147bf6be077',\n",
       " '5cdf24cc-0ebb-4eed-87e6-dc17d7810111',\n",
       " '15b36687-de94-43f3-a2a6-38a6a5b3900b',\n",
       " 'eb085f27-c9e8-47e1-a764-b4a3405a9bb3',\n",
       " '445c7c84-0ceb-47a2-985d-ffb6044aed41',\n",
       " 'ade8ab06-14ac-4ff7-bbd0-dfb866f69d6a',\n",
       " '3fcfee01-1adf-407f-bc6f-7b245df3ea20',\n",
       " '79196b92-1d26-404c-a371-3b36ef93904e',\n",
       " 'e141c867-8d3a-45ed-9451-97a65d1fbfd8',\n",
       " 'f8d03de0-7fce-4fb3-bbf7-d781d326e375',\n",
       " 'a2b8bc64-3c12-469d-8614-533ea76cc7c3',\n",
       " 'f2672bc7-a46d-4d28-84ab-5fe461fe4850']"
      ]
     },
     "execution_count": 59,
     "metadata": {},
     "output_type": "execute_result"
    }
   ],
   "source": [
    "if(vector_store._collection.count()) > 0:\n",
    "    print(\"found collection to be deleted : \", vector_store._collection.count())\n",
    "    vector_store.delete_collection()\n",
    "\n",
    "vector_store = Chroma(\n",
    "    collection_name=\"example_collection\",\n",
    "    embedding_function=embeddings,\n",
    "    persist_directory=\"./chroma_langchain_db\",  # Where to save data locally, remove if not neccesary\n",
    ")\n",
    "\n",
    "vector_store.add_documents(data)"
   ]
  },
  {
   "cell_type": "code",
   "execution_count": 60,
   "metadata": {},
   "outputs": [
    {
     "name": "stdout",
     "output_type": "stream",
     "text": [
      "Collection count in DB : %s 20\n",
      "20\n"
     ]
    }
   ],
   "source": [
    "print(\"Collection count in DB : %s\", vector_store._collection.count())\n",
    "print(len(data))"
   ]
  }
 ],
 "metadata": {
  "kernelspec": {
   "display_name": ".venv",
   "language": "python",
   "name": "python3"
  },
  "language_info": {
   "codemirror_mode": {
    "name": "ipython",
    "version": 3
   },
   "file_extension": ".py",
   "mimetype": "text/x-python",
   "name": "python",
   "nbconvert_exporter": "python",
   "pygments_lexer": "ipython3",
   "version": "3.12.3"
  }
 },
 "nbformat": 4,
 "nbformat_minor": 2
}
