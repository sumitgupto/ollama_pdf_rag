{
 "cells": [
  {
   "cell_type": "code",
   "execution_count": 1,
   "metadata": {},
   "outputs": [
    {
     "name": "stdout",
     "output_type": "stream",
     "text": [
      "('my_file', '.txt')\n",
      "File Name:  my_file\n",
      "File Extension:  .txt\n"
     ]
    }
   ],
   "source": [
    "import os\n",
    " \n",
    "# this will return a tuple of root and extension\n",
    "split_tup = os.path.splitext('my_file.txt')\n",
    "print(split_tup)\n",
    " \n",
    "# extract the file name and extension\n",
    "file_name = split_tup[0]\n",
    "file_extension = split_tup[1]\n",
    " \n",
    "print(\"File Name: \", file_name)\n",
    "print(\"File Extension: \", file_extension)"
   ]
  }
 ],
 "metadata": {
  "kernelspec": {
   "display_name": ".venv",
   "language": "python",
   "name": "python3"
  },
  "language_info": {
   "codemirror_mode": {
    "name": "ipython",
    "version": 3
   },
   "file_extension": ".py",
   "mimetype": "text/x-python",
   "name": "python",
   "nbconvert_exporter": "python",
   "pygments_lexer": "ipython3",
   "version": "3.12.3"
  }
 },
 "nbformat": 4,
 "nbformat_minor": 2
}
